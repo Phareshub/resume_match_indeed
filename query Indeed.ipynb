{
 "cells": [
  {
   "cell_type": "code",
   "execution_count": 1,
   "metadata": {},
   "outputs": [],
   "source": [
    "########### Python 2.7 #############\n",
    "import urllib\n",
    "import requests, json\n",
    "import lxml.html\n",
    "from bs4 import BeautifulSoup as bs\n",
    "from pymongo import MongoClient \n",
    "import pandas as pd\n",
    "import json\n",
    "import pprint\n",
    "from tqdm import tqdm\n",
    "from IPython.display import clear_output\n",
    "\n",
    "\n",
    "class IndeedCrawl(object):\n",
    "\n",
    "    def __init__(self,data_table):\n",
    "        #self.query = \"jobtitle:({0})\".format(company_name)\n",
    "        \n",
    "        self.endpoint = 'http://api.indeed.com/ads/apisearch?'\n",
    "        self.key = \"6437595457989494\"\n",
    "       # self.client = MongoClient(\"mongodb://127.0.0.1:27017\")\n",
    "      #  self.db=self.client.jobs[data_table]\n",
    "\n",
    "    def _create_params(self, query, start, location, job_type ,count=3):\n",
    "        params = urllib.urlencode({\n",
    "            # Request parameters\n",
    "            'publisher': self.key,\n",
    "            'q': query,\n",
    "            'limit': count,\n",
    "            'co': \"US\",\n",
    "            'start': start,\n",
    "            'sort': 'date',\n",
    "            'st': 'employer',\n",
    "            'format': 'json',\n",
    "            'v': 2,\n",
    "            'l': location,\n",
    "            'filter':1,\n",
    "            'jt': job_type\n",
    "        })\n",
    "        return params\n",
    "    \n",
    "    def search(self, query, start, location, job_type,count=10):\n",
    "        jobs = []\n",
    "        prog = tqdm(total=count)\n",
    "        while not start > count:\n",
    "            try:\n",
    "                params = self._create_params(query, start, location,job_type, count)\n",
    "                response = requests.get(self.endpoint+params)\n",
    "                response = json.loads(response.text)\n",
    "                max_result = response['totalResults']\n",
    "                count = max_result\n",
    "                print \"start= \", start\n",
    "                print \"max-results: \" + str(max_result)\n",
    "\n",
    "                for res in response['results']:\n",
    "                    if res.get('url'):\n",
    "                        url = res.get('url')\n",
    "                        res2 = requests.get(url)\n",
    "                        jd = \"\"\n",
    "                        summary = bs(res2.text,\"html.parser\")\n",
    "                        jd =summary.find(class_=\"jobsearch-JobComponent-description icl-u-xs-mt--md\").text.encode(\"utf-8\")\n",
    "                        '''\n",
    "                        summary = lxml.html.fromstring(res2.text)\n",
    "                        for span in summary.xpath('//span[@id=\"job_summary\"]'):\n",
    "                            for x in span.itertext():\n",
    "                                #job_sum = x.encode('utf-8')\n",
    "                                job_sum=x\n",
    "                                jd += job_sum\n",
    "                        '''\n",
    "                        res['job_summary'] = jd\n",
    "                        \n",
    "                       # self.db.insert(res)\n",
    "                    #print \" job: \", res['jobtitle'], \"\\n\"\n",
    "                    jobs.append(res)\n",
    "                print \"start query again\"\n",
    "                start += 25\n",
    "                clear_output()\n",
    "                prog.update(25)\n",
    "                #count -= 25\n",
    "                \n",
    "            except Exception as e:\n",
    "                print e.message\n",
    "                if start > count: break\n",
    "                start += 1\n",
    "                clear_output()\n",
    "                prog.update(1)\n",
    "                continue\n",
    "                \n",
    "        prog.close()\n",
    "        return jobs\n",
    "        \n",
    "    \n",
    "    def output_csv(self,filename= None):\n",
    "\n",
    "        data = self.db.find({})\n",
    "        data=list(data)\n",
    "        data=pd.DataFrame(data)\n",
    "        data=data.drop_duplicates(\"jobkey\")\n",
    "        \n",
    "        #data.to_csv(str(filename)+\".csv\",encoding=\"utf-8\")\n",
    "        data.to_csv(\"data.csv\",encoding=\"utf-8\")\n",
    "    def output_excel(self,filename):\n",
    "\n",
    "        data = self.db.find({})\n",
    "        data=list(data)\n",
    "        data=pd.DataFrame(data)\n",
    "        data=data.drop_duplicates(\"jobkey\")\n",
    "        data=data.drop(\"_id\",1)\n",
    "        data.to_excel(str(filename)+\".xlsx\",encoding=\"utf-8\")\n",
    "\n",
    "####################################"
   ]
  },
  {
   "cell_type": "code",
   "execution_count": 2,
   "metadata": {
    "scrolled": false
   },
   "outputs": [
    {
     "name": "stderr",
     "output_type": "stream",
     "text": [
      "  2%|█▊                                                                            | 225/10000 [01:29<54:11,  3.01it/s]\n"
     ]
    }
   ],
   "source": [
    "\n",
    "search_term=\"entry level quantitative\"\n",
    "location=\"california\"\n",
    "data_table=\"indeed_entry_california_research_2018\"\n",
    "job_type=\"fulltime\" #internship, parttime, fulltime\n",
    "result_count=10000\n",
    "my_test=IndeedCrawl(data_table)\n",
    "result = my_test.search(search_term,0,location,job_type,result_count)\n",
    "result = pd.DataFrame(result)\n",
    "result.to_csv(\"data.csv\", encoding=\"utf-8\")"
   ]
  },
  {
   "cell_type": "code",
   "execution_count": 6,
   "metadata": {},
   "outputs": [
    {
     "data": {
      "text/plain": [
       "'$12 an hourTeam Member\\nAt Goodwill Industries\\xc2\\xae Sacramento Valley & Northern Nevada, Inc. (Goodwill) you\\xe2\\x80\\x99ll hear us say \\xe2\\x80\\x9cbecause of Goodwill\\xe2\\x80\\x9d a lot. Often it means, \\xe2\\x80\\x9cbecause of Goodwill I got a hand up\\xe2\\x80\\x9d or \\xe2\\x80\\x9cbecause of Goodwill I have a chance.\\xe2\\x80\\x9d Our organization is built on a rich history of finding the hidden value and possibility in people and donated goods alike since 1933. Today, we continue to innovate the social enterprise of our founders and lead with our mission to utilize Goodwill resources to help people with disadvantages achieve self-sufficiency in everything we do. This mission is expressed through our retail stores and collection sites which create an accessible shopping experience for all, an environmentally conscious alternative to the landfill, and an employment platform for 2,700 people annually. We go beyond creating jobs alone and provide essential resources to our Family of Nonprofits and regional community partners serving over 350,000 people with disabilities, people experiencing homelessness, veterans, seniors, opportunity youth and children in need every year. That\\xe2\\x80\\x99s over 900,000 life-changing services including job training, emergency shelter for families, resource and referral information, meals, youth advocacy, and mental health counseling. Over 95% of total revenues are dedicated giving back to the communities we serve.\\nAs a Team Member you will be responsible for cash handling, merchandising, sorting, cleaning, hanging, pricing, and tagging miscellaneous donated merchandise. We provide fast, fun and friendly service to all of our customers. We have both part-time and full-time positions.\\nResponsibilities:\\nAdhere to Kaizen principles of work station organization\\nCleans sorts, hangs, and tags saleable items. Prices saleable items according to established pricing guide.\\nAssesses each article as to quality, style, type, and use. Remove and deposits all unacceptable items into trash or as-is containers.\\nStocks and presents merchandise for maximum salability.\\nOperates cash register with accuracy.\\nKeeps Management informed as to merchandise needs.\\nProvides quality customer service in a timely and courteous manner to all shoppers, donors and employees.\\nLoads /Unloads trailer safely and effectively\\nProvides the proper attention is given to floor appearance, cleanliness, and shopping environment including but not limited to: floor care, fitting room, cash register and customer service areas, aisles, trash cans, lights, restrooms, glass showcases, window ledges and doors. Ensure that doors, odor control, cash registers, vending machines, fire extinguishers, and restrooms are in proper working order.\\nMaintaining the appearance of building exterior and parking lot, including but not limited to: windows, doors, sidewalks, parking lot lights, dumpster area, landscape, shopping cart retrieval, store entry, and signage.\\nMaintaining a clean and orderly store processing area, good housekeeping and work environment. Assist in ensuring machinery is in proper working order.\\nQualifications:\\nKnowledge in retail field or warehouse.\\nMust be 18 years of age or older.\\nAbility to effectively communicate, including reading and writing in English.\\nAbility to perform tasks involving pushing, pulling, carrying, and lifting items up to 50 pounds.\\nMust have an inclination toward repetitive and routine tasks.\\nAbility to work a flexible work schedule, including weekends and holidays.\\nAbility to operate cash register, ATM, fax machine, calculator, pricing gun, and fastener attaching gun.\\nMust not present a direct threat to the safety and health of self, others or property.\\nMust provide proof of identification and eligibility to work in the United States of America.\\nMust be able to perform essential functions Clerk Processor job description with or without reasonable accommodation.\\nMust meet qualitative and quantitative performance standards as established by the company.\\nPosition Information:\\nJob Type: Part-Time and Full-Time Positions Available\\nCompensation: $12.00 per hour\\nLimited hazards due to lifting, pulling, and pushing merchandise by self or others.\\nRequires a high level of adaptability and flexibility. Work environment usually hectic (fast paced) with frequent short deadlines and regular instances of critical or unusual situations.\\nField of work includes production area, and store showroom.\\n\\nOffers of employment may be contingent on satisfactory results of a criminal history background check and drug test.\\nThis organization participates in E-Verify. E-Verify is a service that verifies authorization to work in the U.S. through the U.S. Department of Homeland Security (DHS) and the U.S.\\nDepartment of Social Security (SSA).\\nGoodwill Industries\\xc2\\xae of Sacramento Valley & Northern Nevada, Inc. is an Equal Opportunity Employer and is committed to fostering diversity within its staff. Applications are encouraged from all persons regardless of their race, color, ancestry, religious creed, national origin, sex, sexual orientation, gender identity, gender expression, medical/physical/mental condition, pregnancy/childbirth and related medical condition, age, marital status, veteran status or history of incarceration.'"
      ]
     },
     "execution_count": 6,
     "metadata": {},
     "output_type": "execute_result"
    }
   ],
   "source": [
    "result.iloc[0][\"job_summary\"]"
   ]
  },
  {
   "cell_type": "code",
   "execution_count": null,
   "metadata": {},
   "outputs": [],
   "source": []
  }
 ],
 "metadata": {
  "kernelspec": {
   "display_name": "Python 2",
   "language": "python",
   "name": "python2"
  },
  "language_info": {
   "codemirror_mode": {
    "name": "ipython",
    "version": 2
   },
   "file_extension": ".py",
   "mimetype": "text/x-python",
   "name": "python",
   "nbconvert_exporter": "python",
   "pygments_lexer": "ipython2",
   "version": "2.7.14"
  }
 },
 "nbformat": 4,
 "nbformat_minor": 2
}
